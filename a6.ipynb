{
 "cells": [
  {
   "cell_type": "markdown",
   "id": "6a60d488",
   "metadata": {},
   "source": [
    "# Assignment 6"
   ]
  },
  {
   "cell_type": "markdown",
   "id": "f06e2939",
   "metadata": {},
   "source": [
    "Name:Prerana Jaywant Vichare\n",
    "\n",
    "Roll no:21CO314\n"
   ]
  },
  {
   "cell_type": "code",
   "execution_count": 10,
   "id": "30669c6c",
   "metadata": {},
   "outputs": [
    {
     "name": "stdout",
     "output_type": "stream",
     "text": [
      "enter size:3\n",
      "enter elements1:50\n",
      "enter elements2:10\n",
      "enter elements3:4\n",
      "[4, 10, 50]\n"
     ]
    }
   ],
   "source": [
    "def partition(a, start, end):\n",
    "  pivot = a[end]\n",
    "  i = start-1\n",
    "\n",
    "  for j in range(start, end):\n",
    "    if(a[j]<=pivot):\n",
    "      i=i+1\n",
    "      a[i], a[j] = a[j], a[i]\n",
    "  a[i+1], a[end] = a[end], a[i+1]\n",
    "  return i+1\n",
    "\n",
    "def quicksort(a, start, end):\n",
    "  if(start < end):\n",
    "    q = partition(a, start, end)\n",
    "    quicksort(a, start, q-1)\n",
    "    quicksort(a, q+1, end)\n",
    "\n",
    "if __name__ == '__main__':\n",
    "    a = []\n",
    "    size=int(input(f\"enter size:\"))\n",
    "    for i in range (size):\n",
    "        ele=int(input(f\"enter elements{i+1}:\"))\n",
    "        a.append(ele)\n",
    "    quicksort(a, 0, len(a)-1)\n",
    "print(a)"
   ]
  }
 ],
 "metadata": {
  "kernelspec": {
   "display_name": "Python 3 (ipykernel)",
   "language": "python",
   "name": "python3"
  },
  "language_info": {
   "codemirror_mode": {
    "name": "ipython",
    "version": 3
   },
   "file_extension": ".py",
   "mimetype": "text/x-python",
   "name": "python",
   "nbconvert_exporter": "python",
   "pygments_lexer": "ipython3",
   "version": "3.10.9"
  }
 },
 "nbformat": 4,
 "nbformat_minor": 5
}
