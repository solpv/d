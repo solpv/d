{
 "cells": [
  {
   "cell_type": "code",
   "execution_count": 2,
   "id": "453740a9",
   "metadata": {},
   "outputs": [
    {
     "name": "stdout",
     "output_type": "stream",
     "text": [
      "Enter Weight: 20 40  90 60\n",
      "Enter value: 100 89 20 70\n",
      "enter capacity45\n",
      "100\n"
     ]
    }
   ],
   "source": [
    "def solve_knapsack():\n",
    "    val=[] \n",
    "    wt=[]\n",
    "    wt=list(map(int, input(\"Enter Weight: \").split()))\n",
    "    val=list(map(int, input(\"Enter value: \").split()))\n",
    "    W=int(input(\"enter capacity\"))\n",
    "    n=len(val) - 1\n",
    "    def knapsack(W,n): \n",
    "        #base case\n",
    "        if n<0 or W<=0:\n",
    "            return 0\n",
    "        \n",
    "    \n",
    "        if wt[n]>W:\n",
    "            return knapsack(W, n-1)\n",
    "        \n",
    "        else:\n",
    "            return max(val[n] + knapsack(W-wt[n],n-1),knapsack(W,n-1))\n",
    "        \n",
    "    print(knapsack(W,n))\n",
    "\n",
    "if __name__==\"__main__\":\n",
    "    solve_knapsack()"
   ]
  },
  {
   "cell_type": "code",
   "execution_count": null,
   "id": "d463e535",
   "metadata": {},
   "outputs": [],
   "source": []
  }
 ],
 "metadata": {
  "kernelspec": {
   "display_name": "Python 3 (ipykernel)",
   "language": "python",
   "name": "python3"
  },
  "language_info": {
   "codemirror_mode": {
    "name": "ipython",
    "version": 3
   },
   "file_extension": ".py",
   "mimetype": "text/x-python",
   "name": "python",
   "nbconvert_exporter": "python",
   "pygments_lexer": "ipython3",
   "version": "3.10.9"
  }
 },
 "nbformat": 4,
 "nbformat_minor": 5
}
