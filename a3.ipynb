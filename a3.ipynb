{
 "cells": [
  {
   "cell_type": "code",
   "execution_count": 4,
   "id": "2ae06c79",
   "metadata": {},
   "outputs": [
    {
     "name": "stdout",
     "output_type": "stream",
     "text": [
      "Enter Weight: 40 20 10\n",
      "Enter value: 100 9 94\n",
      "enter capacity15\n",
      "106\n"
     ]
    }
   ],
   "source": [
    "def fractional_knapsack():\n",
    "    wt=[]\n",
    "    val=[]\n",
    "    wt=list(map(int, input(\"Enter Weight: \").split()))\n",
    "    val=list(map(int, input(\"Enter value: \").split()))\n",
    "    c=int(input(\"enter capacity\"))\n",
    "    res=0\n",
    "   \n",
    "    for pair in sorted(zip(wt,val), key= lambda x: x[1]/x[0], reverse=True):\n",
    "        if c<=0:\n",
    "            break \n",
    "        if pair[0]>c: \n",
    "            res+=int(c*(pair[1]/pair[0]))\n",
    "            c=0\n",
    "        elif pair[0]<=c:\n",
    "            res+=pair[1]\n",
    "            c-=pair[0]\n",
    "    print(res)        \n",
    "\n",
    "if __name__==\"__main__\":\n",
    "    fractional_knapsack()"
   ]
  },
  {
   "cell_type": "code",
   "execution_count": null,
   "id": "5c497a99",
   "metadata": {},
   "outputs": [],
   "source": []
  }
 ],
 "metadata": {
  "kernelspec": {
   "display_name": "Python 3 (ipykernel)",
   "language": "python",
   "name": "python3"
  },
  "language_info": {
   "codemirror_mode": {
    "name": "ipython",
    "version": 3
   },
   "file_extension": ".py",
   "mimetype": "text/x-python",
   "name": "python",
   "nbconvert_exporter": "python",
   "pygments_lexer": "ipython3",
   "version": "3.10.9"
  }
 },
 "nbformat": 4,
 "nbformat_minor": 5
}
