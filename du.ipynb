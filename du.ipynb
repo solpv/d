{
 "cells": [
  {
   "cell_type": "markdown",
   "id": "b9f9128c",
   "metadata": {},
   "source": [
    "#                                            Assignment 3"
   ]
  },
  {
   "cell_type": "markdown",
   "id": "201c8a36",
   "metadata": {},
   "source": [
    "Name:Prerana Jaywant Vichare\n",
    "\n",
    "\n",
    "Roll no:21CO314"
   ]
  },
  {
   "cell_type": "code",
   "execution_count": 2,
   "id": "514176b3",
   "metadata": {},
   "outputs": [
    {
     "name": "stdout",
     "output_type": "stream",
     "text": [
      "240\n"
     ]
    }
   ],
   "source": [
    "def fractional_knapsack():\n",
    "    weights=[10,20,30]\n",
    "    values=[60,100,120]\n",
    "    capacity=50\n",
    "    res=0\n",
    "   \n",
    "    for pair in sorted(zip(weights,values), key= lambda x: x[1]/x[0], reverse=True):\n",
    "        if capacity<=0:\n",
    "            break \n",
    "        if pair[0]>capacity: \n",
    "            res+=int(capacity * (pair[1]/pair[0])\n",
    "            capacity=0\n",
    "        elif pair[0]<=capacity:\n",
    "            res+=pair[1]\n",
    "            capacity-=pair[0]\n",
    "    print(res)        \n",
    "\n",
    "if __name__==\"__main__\":\n",
    "    fractional_knapsack()"
   ]
  },
  {
   "cell_type": "code",
   "execution_count": null,
   "id": "1bcabfbe",
   "metadata": {},
   "outputs": [],
   "source": []
  }
 ],
 "metadata": {
  "kernelspec": {
   "display_name": "Python 3 (ipykernel)",
   "language": "python",
   "name": "python3"
  },
  "language_info": {
   "codemirror_mode": {
    "name": "ipython",
    "version": 3
   },
   "file_extension": ".py",
   "mimetype": "text/x-python",
   "name": "python",
   "nbconvert_exporter": "python",
   "pygments_lexer": "ipython3",
   "version": "3.10.9"
  }
 },
 "nbformat": 4,
 "nbformat_minor": 5
}
