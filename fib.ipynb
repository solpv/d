{
 "cells": [
  {
   "cell_type": "code",
   "execution_count": 3,
   "id": "56601c5f",
   "metadata": {},
   "outputs": [
    {
     "name": "stdout",
     "output_type": "stream",
     "text": [
      "Enter the index of the Fibonacci number you want to calculate: 4\n",
      "The Fibonacci number at index 4 is: 3\n",
      "Number of steps taken: 4\n",
      "The Fibonacci series up to index 4 is: [0, 1, 1, 2, 3]\n"
     ]
    }
   ],
   "source": [
    "def fibonacci(n):\n",
    "    if n <= 1:\n",
    "        return n, 0\n",
    "\n",
    "    fib_n_minus_1, steps_1 = fibonacci(n - 1)\n",
    "    fib_n_minus_2, steps_2 = fibonacci(n - 2)\n",
    "\n",
    "    return fib_n_minus_1 + fib_n_minus_2, steps_1 + steps_2 + 1\n",
    "\n",
    "def generate_fibonacci_series(n):\n",
    "    series = []\n",
    "    for i in range(n+1):\n",
    "        fib_number, _ = fibonacci(i)\n",
    "        series.append(fib_number)\n",
    "    return series\n",
    "\n",
    "def main():\n",
    "    n = int(input(\"Enter the index of the Fibonacci number you want to calculate: \"))\n",
    "\n",
    "    fib_number, steps = fibonacci(n)\n",
    "    series = generate_fibonacci_series(n)\n",
    "\n",
    "    print(f\"The Fibonacci number at index {n} is: {fib_number}\")\n",
    "    print(f\"Number of steps taken: {steps}\")\n",
    "    print(f\"The Fibonacci series up to index {n} is: {series}\")\n",
    "\n",
    "if __name__ == \"__main__\":\n",
    "    main()\n"
   ]
  },
  {
   "cell_type": "code",
   "execution_count": null,
   "id": "7d402d95",
   "metadata": {},
   "outputs": [],
   "source": []
  }
 ],
 "metadata": {
  "kernelspec": {
   "display_name": "Python 3 (ipykernel)",
   "language": "python",
   "name": "python3"
  },
  "language_info": {
   "codemirror_mode": {
    "name": "ipython",
    "version": 3
   },
   "file_extension": ".py",
   "mimetype": "text/x-python",
   "name": "python",
   "nbconvert_exporter": "python",
   "pygments_lexer": "ipython3",
   "version": "3.10.9"
  }
 },
 "nbformat": 4,
 "nbformat_minor": 5
}
